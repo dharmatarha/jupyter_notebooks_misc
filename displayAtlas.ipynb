{
 "cells": [
  {
   "cell_type": "markdown",
   "metadata": {},
   "source": [
    "# PySurfer for EEG results visualization in source space\n",
    "\n",
    "## Goal\n",
    "\n",
    "In this notebook we project statistical results calculated on Brainstorm source-space parcellations to the 'fsaverage' surface. We assume that the DKT atlas (31 areas / hemisphere) was selected for source-space ROIs.\n",
    "\n"
   ]
  },
  {
   "cell_type": "markdown",
   "metadata": {},
   "source": [
    "## Prerequisites\n",
    "\n",
    "(1) .annot file for the parcellation. Ours is from the Mindboggle dataset (https://dataverse.harvard.edu/dataset.xhtml?persistentId=doi:10.7910/DVN/XCCE9Q). Specifically, we applied the lh.DKT31atlas101subjects.gcs / rh.DKT31atlas101subjects.gcs atlases to the fsaverage subject using mris_ca_label (Freesurfer tool): <br>\n",
    "\n",
    "<code> mris_ca_label fsaverage rh $SUBJECTS_DIR/fsaverage/surf/rh.sphere.reg \"atlas dir\"/rh.DKT31atlas101subjects.gcs \"output dir\"/\"output file name\".annot </code> \n",
    "<br>\n",
    "\n",
    "(2) PySurfer. Watch out for a nasty rendering bug appearing for certain Linux configs, description and solution here: https://github.com/nipy/PySurfer/pull/286\n",
    "<br>\n",
    "\n",
    "(3) Results / stats array, one value per ROI/area. We use .csv files where the first column stores ROI names/labels.\n",
    "<br>\n",
    "\n",
    "That's all, let's get into it!\n",
    "<br>\n"
   ]
  },
  {
   "cell_type": "markdown",
   "metadata": {},
   "source": [
    "## Imports"
   ]
  },
  {
   "cell_type": "code",
   "execution_count": 1,
   "metadata": {},
   "outputs": [],
   "source": [
    "import os\n",
    "import numpy as np\n",
    "import matplotlib.pyplot as plt\n",
    "from mayavi import mlab\n",
    "from tvtk.api import tvtk\n",
    "from tvtk.common import configure_input_data\n",
    "from surfer import Brain\n",
    "import nibabel as nib"
   ]
  },
  {
   "cell_type": "markdown",
   "metadata": {},
   "source": [
    "## Load parcellation and results to visualize"
   ]
  },
  {
   "cell_type": "code",
   "execution_count": 2,
   "metadata": {},
   "outputs": [],
   "source": [
    "# Load annotations\n",
    "\n",
    "# freesurfer parcellation files (*.annot), one per hemisphere\n",
    "aparc_file_lh = '/home/adamb/Downloads/freesurfer_atlas_DKT31labels101subjects/lh_test_fsaverage.annot'\n",
    "aparc_file_rh = '/home/adamb/Downloads/freesurfer_atlas_DKT31labels101subjects/rh_test_fsaverage.annot'\n",
    "\n",
    "# nibabel loads *.annot files out-of-the-box\n",
    "vtx_labels_lh, ctab_lh, aparc_names_lh = nib.freesurfer.read_annot(aparc_file_lh)\n",
    "vtx_labels_rh, ctab_rh, aparc_names_rh = nib.freesurfer.read_annot(aparc_file_rh)\n",
    "\n",
    "# turn roi names to string from byte text\n",
    "aparc_names_lh = [name.decode('utf-8') for name in aparc_names_lh]\n",
    "aparc_names_rh = [name.decode('utf-8') for name in aparc_names_rh]\n",
    "\n",
    "\n",
    "# Load results to map\n",
    "\n",
    "# frequency band of interest\n",
    "freq = 'alpha'\n",
    "\n",
    "# *.csv with results we want to visualize, one per hemisphere\n",
    "res_file_lh = '/media/adamb/bonczData/hyperscan/circCorr_fixM_leftHemi_' + freq +'.csv'\n",
    "res_file_rh = '/media/adamb/bonczData/hyperscan/circCorr_fixM_rightHemi_' + freq +'.csv'\n",
    "\n",
    "# load *.csv files into numpy arrays\n",
    "res_lh = np.genfromtxt(res_file_lh, delimiter=',', dtype=None, encoding='utf8')\n",
    "res_rh = np.genfromtxt(res_file_rh, delimiter=',', dtype=None, encoding='utf8')\n",
    "\n",
    "# roi names to a list, stats to array, skip first value (header)\n",
    "res_names_lh = res_lh[1:,0].tolist()\n",
    "res_names_rh = res_rh[1:,0].tolist()\n",
    "res_values_lh = res_lh[1:, 3]\n",
    "res_values_rh = res_rh[1:, 3]\n",
    "res_values_lh = res_values_lh.astype('float64')  # specify data type as double float\n",
    "res_values_rh = res_values_rh.astype('float64')"
   ]
  },
  {
   "cell_type": "markdown",
   "metadata": {},
   "source": [
    "## Optional: match results to annotation labels\n",
    "\n",
    "Our ROI labels do not match exactly the ones from the annotation files. First, there is a cardinality-discrepancy, as the DTK annotation retains all labels from the DK atlas without using them all (does not assign vertices to some of them). Second, our results files contain labels with an \"L\" or \"R\" tag.\n",
    "<br> <br>\n",
    "Let's make sure first that there are indeed ROI names included in the annotations without any corresponding vertices:\n",
    "<br> <br>"
   ]
  },
  {
   "cell_type": "code",
   "execution_count": 3,
   "metadata": {},
   "outputs": [
    {
     "name": "stdout",
     "output_type": "stream",
     "text": [
      "Unique values from variable \"vtx_labels_lh\":\n",
      "[ 0  2  3  5  6  7  8  9 10 11 12 13 14 15 16 17 18 19 20 21 22 23 24 25\n",
      " 26 27 28 29 30 31 34 35]\n",
      "No. of unique values: 32\n",
      "There are  36  ROI names in \"aparc_names_lh\" though\n",
      "\n",
      "Unique values from variable \"vtx_labels_rh\":\n",
      "[ 0  2  3  5  6  7  8  9 10 11 12 13 14 15 16 17 18 19 20 21 22 23 24 25\n",
      " 26 27 28 29 30 31 34 35]\n",
      "No. of unique values: 32\n",
      "There are  36  ROI names in \"aparc_names_rh\" though\n",
      "\n",
      "The following ROIs have no vertices assigned to them:\n",
      "Left hemi:\n",
      "['bankssts', 'corpuscallosum', 'frontalpole', 'temporalpole']\n",
      "Right hemi:\n",
      "['bankssts', 'corpuscallosum', 'frontalpole', 'temporalpole']\n"
     ]
    }
   ],
   "source": [
    "# delete the trailing \"L\" / \"R\" at the end of each result roi label\n",
    "res_names_lh = [label[0:-2] for label in res_names_lh]\n",
    "res_names_rh = [label[0:-2] for label in res_names_rh]\n",
    "\n",
    "# check the range of values in labels_lh, compare them to names_lh\n",
    "print('Unique values from variable \\\"vtx_labels_lh\\\":')\n",
    "print(np.unique(vtx_labels_lh))\n",
    "print('No. of unique values:', len(np.unique(vtx_labels_lh)))\n",
    "# There are more names than unique labels:\n",
    "print('There are ', len(aparc_names_lh), ' ROI names in \\\"aparc_names_lh\\\" though')\n",
    "\n",
    "# same for right hemi\n",
    "print('\\nUnique values from variable \\\"vtx_labels_rh\\\":')\n",
    "print(np.unique(vtx_labels_rh))\n",
    "print('No. of unique values:', len(np.unique(vtx_labels_rh)))\n",
    "print('There are ', len(aparc_names_rh), ' ROI names in \\\"aparc_names_rh\\\" though')\n",
    "\n",
    "# ROIs with no vertices\n",
    "print('\\nThe following ROIs have no vertices assigned to them:')\n",
    "print('Left hemi:')\n",
    "print([aparc_names_lh[i] for i in np.setdiff1d(np.arange(len(aparc_names_rh)), np.unique(vtx_labels_lh))])\n",
    "print('Right hemi:')\n",
    "print([aparc_names_lh[i] for i in np.setdiff1d(np.arange(len(aparc_names_rh)), np.unique(vtx_labels_rh))])\n"
   ]
  },
  {
   "cell_type": "markdown",
   "metadata": {},
   "source": [
    "Hopefully the above lists consist of (1) Banks of the sup. temporal sulcus; (2) Corpus callosum; (3) Frontal pole; (4) Temporal pole. <br> <br>\n",
    "(See the background for this whole issue around ROIs included/excluded here: https://mindboggle.readthedocs.io/en/latest/labels.html)\n",
    "<br> <br>\n",
    "If yes, now we can make sure our labels match those used for ROIs with vertices. We take the set differences and expect to see the four ROIs specified above + the \"unknown\" category\n",
    "<br>"
   ]
  },
  {
   "cell_type": "code",
   "execution_count": 4,
   "metadata": {
    "scrolled": true
   },
   "outputs": [
    {
     "name": "stdout",
     "output_type": "stream",
     "text": [
      "{'unknown', 'frontalpole', 'temporalpole', 'bankssts', 'corpuscallosum'}\n",
      "{'unknown', 'frontalpole', 'temporalpole', 'bankssts', 'corpuscallosum'}\n"
     ]
    }
   ],
   "source": [
    "# check if our roi names set covers the annotation roi names set after deleting the ones without vertices\n",
    "print(set(aparc_names_lh) - set(res_names_lh))\n",
    "print(set(aparc_names_rh) - set(res_names_rh))"
   ]
  },
  {
   "cell_type": "markdown",
   "metadata": {},
   "source": [
    "Great, now we can define the mapping from result ROI labels to annotation ROI labels - the same mapping can then be used for defining the colors\n",
    "<br> <br>"
   ]
  },
  {
   "cell_type": "code",
   "execution_count": 5,
   "metadata": {
    "scrolled": false
   },
   "outputs": [
    {
     "name": "stdout",
     "output_type": "stream",
     "text": [
      "Sanity check passed: Mappings for the two hemispheres are the same, use the \"res2aparc\" list\n",
      "\n",
      "\n",
      "ROI names list from results file after reordering, compared to parcellation ROI names list (side-by-side):\n",
      "\n",
      "        Aparc_names list            Reordered res_names list\n",
      "0       unknown                     None\n",
      "1       bankssts                    None\n",
      "2       caudalanteriorcingulate     caudalanteriorcingulate\n",
      "3       caudalmiddlefrontal         caudalmiddlefrontal\n",
      "4       corpuscallosum              None\n",
      "5       cuneus                      cuneus\n",
      "6       entorhinal                  entorhinal\n",
      "7       fusiform                    fusiform\n",
      "8       inferiorparietal            inferiorparietal\n",
      "9       inferiortemporal            inferiortemporal\n",
      "10      isthmuscingulate            isthmuscingulate\n",
      "11      lateraloccipital            lateraloccipital\n",
      "12      lateralorbitofrontal        lateralorbitofrontal\n",
      "13      lingual                     lingual\n",
      "14      medialorbitofrontal         medialorbitofrontal\n",
      "15      middletemporal              middletemporal\n",
      "16      parahippocampal             parahippocampal\n",
      "17      paracentral                 paracentral\n",
      "18      parsopercularis             parsopercularis\n",
      "19      parsorbitalis               parsorbitalis\n",
      "20      parstriangularis            parstriangularis\n",
      "21      pericalcarine               pericalcarine\n",
      "22      postcentral                 postcentral\n",
      "23      posteriorcingulate          posteriorcingulate\n",
      "24      precentral                  precentral\n",
      "25      precuneus                   precuneus\n",
      "26      rostralanteriorcingulate    rostralanteriorcingulate\n",
      "27      rostralmiddlefrontal        rostralmiddlefrontal\n",
      "28      superiorfrontal             superiorfrontal\n",
      "29      superiorparietal            superiorparietal\n",
      "30      superiortemporal            superiortemporal\n",
      "31      supramarginal               supramarginal\n",
      "32      frontalpole                 None\n",
      "33      temporalpole                None\n",
      "34      transversetemporal          transversetemporal\n",
      "35      insula                      insula\n"
     ]
    }
   ],
   "source": [
    "res2aparc_mapping_lh = [aparc_names_lh.index(res_names_lh[i]) for i in range(len(res_names_lh))]\n",
    "res2aparc_mapping_rh = [aparc_names_rh.index(res_names_rh[i]) for i in range(len(res_names_rh))]\n",
    "\n",
    "# sanity check - are these two mappings the same?\n",
    "if res2aparc_mapping_lh == res2aparc_mapping_rh:\n",
    "    print('Sanity check passed: Mappings for the two hemispheres are the same, use the \\\"res2aparc\\\" list')\n",
    "    res2aparc = res2aparc_mapping_lh\n",
    "    \n",
    "# sanity check - applying the mapping to ROI names in res_names_lh / -rh should \n",
    "# give back aparc_names_lh / -rh but without the ROIs with no vertices assigned\n",
    "res_names_reordered_lh = [None]*len(aparc_names_lh)  # preallocate the ROI name list\n",
    "for pos in range(len(res_names_lh)):\n",
    "    res_names_reordered_lh[res2aparc[pos]] = res_names_lh[pos]  \n",
    "# pritn the two lists side-by-side\n",
    "print('\\n\\nROI names list from results file after reordering,',\n",
    "      'compared to parcellation ROI names list (side-by-side):\\n')\n",
    "fmt = '{:<8}{:<28}{}'\n",
    "print(fmt.format('', 'Aparc_names list', 'Reordered res_names list'))\n",
    "for i, (aparc_name, res_name_ro) in enumerate(zip(aparc_names_lh, res_names_reordered_lh)):\n",
    "    print(fmt.format(i, aparc_name, res_name_ro))"
   ]
  },
  {
   "cell_type": "markdown",
   "metadata": {},
   "source": [
    "Now we can finally order our results according to the parcellation name list, which also gives the position in the colormap.\n",
    "<br> <br> "
   ]
  },
  {
   "cell_type": "code",
   "execution_count": 6,
   "metadata": {},
   "outputs": [],
   "source": [
    "# preallocate\n",
    "res_values_reordered_lh = np.zeros((len(aparc_names_lh),))\n",
    "res_values_reordered_rh = np.zeros((len(aparc_names_rh),))\n",
    "# reorder values\n",
    "for pos in range(len(res_names_lh)):\n",
    "    res_values_reordered_lh[res2aparc[pos]] = res_values_lh[pos]\n",
    "    res_values_reordered_rh[res2aparc[pos]] = res_values_rh[pos]\n",
    "# switch all zeros to nan\n",
    "res_values_reordered_lh[np.isnan(res_values_reordered_lh)] = 0\n",
    "res_values_reordered_rh[np.isnan(res_values_reordered_rh)] = 0"
   ]
  },
  {
   "cell_type": "markdown",
   "metadata": {},
   "source": [
    "## Assign stat values to vertices, based on ROI membership\n",
    "\n",
    "The \\\"vtx_labels_lh\\\" variables from the annotation file hold the ROI membership of each vertex. We simply create an array that switches ROI memberships to stat values:\n",
    "<br> <br>\n"
   ]
  },
  {
   "cell_type": "code",
   "execution_count": 7,
   "metadata": {},
   "outputs": [],
   "source": [
    "vtx_res_values_lh = res_values_reordered_lh[vtx_labels_lh]\n",
    "vtx_res_values_rh = res_values_reordered_lh[vtx_labels_rh]"
   ]
  },
  {
   "cell_type": "markdown",
   "metadata": {},
   "source": [
    "## Plot brain surface and overlay ROI values\n",
    "\n",
    "We are finally ready to plot the left-right surfaces and overlay the stat values on them.\n",
    "<br> <br>"
   ]
  },
  {
   "cell_type": "code",
   "execution_count": 44,
   "metadata": {},
   "outputs": [],
   "source": [
    "# enable IPython GUI event loop integration\n",
    "%gui qt\n",
    "\n",
    "# define surface plotting details\n",
    "surf_value = 'pial'\n",
    "hemi_value = 'lh'\n",
    "views_list = ['lat', 'ven', 'med']\n",
    "fig_size = (600, 1000)\n",
    "hemi_text = 'L'\n",
    "filename = 'resTest'\n",
    "outdir = '/home/adamb/jupyter_notebooks'  # target dir for saving out images\n",
    "\n",
    "# basic pysurfer init command\n",
    "brain = Brain('fsaverage', \n",
    "              hemi=hemi_value, \n",
    "              surf=surf_value,\n",
    "              views=views_list,\n",
    "              show_toolbar=False,\n",
    "              size=fig_size,\n",
    "              background='black')\n",
    "\n",
    "# add a \"left\" / \"right\" label to the figure\n",
    "brain.add_text(x=0.1,\n",
    "              y=0.8,\n",
    "              text=hemi_text,\n",
    "              name='hemi_label',\n",
    "              font_size=20)\n"
   ]
  },
  {
   "cell_type": "code",
   "execution_count": 43,
   "metadata": {},
   "outputs": [
    {
     "name": "stdout",
     "output_type": "stream",
     "text": [
      "colormap sequential: [1.00e-02, 8.38e-01, 1.67e+00] (transparent)\n"
     ]
    }
   ],
   "source": [
    "# stat value overlay details\n",
    "min_value = 0.01\n",
    "max_value = np.nanmax(res_values_lh)\n",
    "color_map = 'autumn'\n",
    "thresh_value = np.nanmin(res_values_lh)\n",
    "\n",
    "# overlay stat values as assigned to vertices\n",
    "brain.add_data(vtx_res_values_lh, \n",
    "               min=min_value,\n",
    "               max=max_value, \n",
    "               colormap=color_map, \n",
    "               thresh=thresh_value, \n",
    "               hemi=hemi, \n",
    "               transparent=True)"
   ]
  },
  {
   "cell_type": "code",
   "execution_count": 45,
   "metadata": {},
   "outputs": [],
   "source": []
  }
 ],
 "metadata": {
  "kernelspec": {
   "display_name": "Python 3",
   "language": "python",
   "name": "python3"
  },
  "language_info": {
   "codemirror_mode": {
    "name": "ipython",
    "version": 3
   },
   "file_extension": ".py",
   "mimetype": "text/x-python",
   "name": "python",
   "nbconvert_exporter": "python",
   "pygments_lexer": "ipython3",
   "version": "3.6.9"
  }
 },
 "nbformat": 4,
 "nbformat_minor": 2
}

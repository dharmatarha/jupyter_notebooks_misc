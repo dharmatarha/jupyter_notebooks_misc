{
  "nbformat": 4,
  "nbformat_minor": 0,
  "metadata": {
    "colab": {
      "name": "huwiki_processing_ba.ipynb",
      "provenance": [],
      "collapsed_sections": [],
      "toc_visible": true
    },
    "kernelspec": {
      "name": "python3",
      "display_name": "Python 3"
    }
  },
  "cells": [
    {
      "cell_type": "markdown",
      "metadata": {
        "id": "NmvmfuxDgaUF",
        "colab_type": "text"
      },
      "source": [
        "# **Prepare input text (HUWIKI) for Huggingface Transformer model (GPT2/Reformer/TransformerXL/...) training**\n",
        "\n",
        "## **To be run on google colab**"
      ]
    },
    {
      "cell_type": "markdown",
      "metadata": {
        "id": "Hz0k0OxBj8DN",
        "colab_type": "text"
      },
      "source": [
        "## **Load a wiki dump**\n",
        "\n",
        "#### We have already downloaded a huwiki dump from 20200520, here we just copy it from a google cloud bucket. It consists of six compressed xml files, with the whole dump ~ 0.9 GB"
      ]
    },
    {
      "cell_type": "code",
      "metadata": {
        "id": "l4xW6_u2fydp",
        "colab_type": "code",
        "colab": {
          "base_uri": "https://localhost:8080/",
          "height": 153
        },
        "outputId": "587db098-a843-46d2-8d12-38a0231718a4"
      },
      "source": [
        "# authorize access to bucket from colab\n",
        "from google.colab import auth\n",
        "auth.authenticate_user()\n",
        "\n",
        "# create folder for storing xml dump files\n",
        "!mkdir hunwiki\n",
        "# copy dump files from a bucket \n",
        "!gsutil -m cp  gs://hungpt2-wikipedia/huwiki-20200520-dump/*bz2 ./hunwiki/"
      ],
      "execution_count": null,
      "outputs": [
        {
          "output_type": "stream",
          "text": [
            "Copying gs://hungpt2-wikipedia/huwiki-20200520-dump/huwiki-20200520-pages-articles-multistream2.xml-p58602p198203.bz2...\n",
            "/ [0/6 files][    0.0 B/880.0 MiB]   0% Done                                    \rCopying gs://hungpt2-wikipedia/huwiki-20200520-dump/huwiki-20200520-pages-articles-multistream1.xml-p1p58601.bz2...\n",
            "/ [0/6 files][    0.0 B/880.0 MiB]   0% Done                                    \rCopying gs://hungpt2-wikipedia/huwiki-20200520-dump/huwiki-20200520-pages-articles-multistream4.xml-p406075p692318.bz2...\n",
            "/ [0/6 files][    0.0 B/880.0 MiB]   0% Done                                    \rCopying gs://hungpt2-wikipedia/huwiki-20200520-dump/huwiki-20200520-pages-articles-multistream3.xml-p198204p406074.bz2...\n",
            "/ [0/6 files][    0.0 B/880.0 MiB]   0% Done                                    \rCopying gs://hungpt2-wikipedia/huwiki-20200520-dump/huwiki-20200520-pages-articles-multistream5.xml-p692319p1116438.bz2...\n",
            "Copying gs://hungpt2-wikipedia/huwiki-20200520-dump/huwiki-20200520-pages-articles-multistream6.xml-p1116439p1705558.bz2...\n",
            "/ [6/6 files][880.0 MiB/880.0 MiB] 100% Done  47.7 MiB/s ETA 00:00:00           \n",
            "Operation completed over 6 objects/880.0 MiB.                                    \n"
          ],
          "name": "stdout"
        }
      ]
    },
    {
      "cell_type": "markdown",
      "metadata": {
        "id": "Kqfn0uhEgqmV",
        "colab_type": "text"
      },
      "source": [
        "## **Preprocess raw XMLs**\n",
        "\n",
        "#### WikiExtractor.py (https://github.com/attardi/wikiextractor) is a Python script that extracts and cleans text from a Wikipedia database dump. It stores output in text files of similar size in a given directory. <br> Each file will contain several documents in the format:\n",
        ">\\<doc id=\" \" revid=\" \" url=\"\" title=\" \"\\>\n",
        "><br>...</br>\n",
        ">\\</doc\\>\n",
        "\n",
        "#### We feed each xml to the extractor script in a loop. To avoid the output files to be overwritten, text files from each xml are saved out into a different subdir under /content/full_wiki_extract/ (e.g. \".../full_wiki_extract/xml0/\")"
      ]
    },
    {
      "cell_type": "code",
      "metadata": {
        "id": "gJEIp6SJgeu0",
        "colab_type": "code",
        "colab": {
          "base_uri": "https://localhost:8080/",
          "height": 102
        },
        "outputId": "c4d46b71-a087-46b3-eccf-fecbadec9980"
      },
      "source": [
        "# install from git\n",
        "!git clone https://github.com/attardi/wikiextractor.git"
      ],
      "execution_count": null,
      "outputs": [
        {
          "output_type": "stream",
          "text": [
            "Cloning into 'wikiextractor'...\n",
            "remote: Enumerating objects: 613, done.\u001b[K\n",
            "remote: Total 613 (delta 0), reused 0 (delta 0), pack-reused 613\u001b[K\n",
            "Receiving objects: 100% (613/613), 1.24 MiB | 16.09 MiB/s, done.\n",
            "Resolving deltas: 100% (352/352), done.\n"
          ],
          "name": "stdout"
        }
      ]
    },
    {
      "cell_type": "code",
      "metadata": {
        "id": "6eY285h3gre8",
        "colab_type": "code",
        "colab": {
          "base_uri": "https://localhost:8080/",
          "height": 530
        },
        "outputId": "07606d8c-883f-4a55-8923-e5acc1241f00"
      },
      "source": [
        "# create target dir\n",
        "!mkdir full_wiki_extract\n",
        "\n",
        "import time \n",
        "import os\n",
        "import glob\n",
        "\n",
        "# list xml dump files\n",
        "dumpFiles = glob.glob('/content/hunwiki/*xml*bz2')\n",
        "print('XML dump files to process:')\n",
        "print(dumpFiles)\n",
        "# create dirs for the output from each dump\n",
        "outputDirs = []\n",
        "for i in range(len(dumpFiles)):\n",
        "  outputDirs.append('/content/full_wiki_extract/xml'+str(i))\n",
        "  os.environ['SUBDIR'] = outputDirs[i]\n",
        "  !mkdir $SUBDIR\n",
        "print('Output dirs for preprocessing:')\n",
        "print(outputDirs)\n",
        "\n",
        "# process each dump file, save outputs to separate dir ,measure elapsed time:\n",
        "for idx, dumpFile in enumerate(dumpFiles):\n",
        "  print('Processing ' + dumpFile)\n",
        "  print('Output dir is ' + outputDirs[idx])\n",
        "  start = time.time()\n",
        "  # we pass input name and output dir as env vars to the wikiextractor script\n",
        "  os.environ['DUMPFILE'] = dumpFile\n",
        "  os.environ['OUTPUTDIR'] = outputDirs[idx]\n",
        "  # invoke wikiextractor script\n",
        "  !python wikiextractor/WikiExtractor.py $DUMPFILE --processes 4 --bytes=25M  --filter_disambig_pages --output=$OUTPUTDIR --min_text_length 100 -q\n",
        "  end = time.time()\n",
        "  print(f'Elapsed time {end - start}')"
      ],
      "execution_count": null,
      "outputs": [
        {
          "output_type": "stream",
          "text": [
            "XML dump files to process:\n",
            "['/content/hunwiki/huwiki-20200520-pages-articles-multistream2.xml-p58602p198203.bz2', '/content/hunwiki/huwiki-20200520-pages-articles-multistream4.xml-p406075p692318.bz2', '/content/hunwiki/huwiki-20200520-pages-articles-multistream5.xml-p692319p1116438.bz2', '/content/hunwiki/huwiki-20200520-pages-articles-multistream6.xml-p1116439p1705558.bz2', '/content/hunwiki/huwiki-20200520-pages-articles-multistream3.xml-p198204p406074.bz2', '/content/hunwiki/huwiki-20200520-pages-articles-multistream1.xml-p1p58601.bz2']\n",
            "Output dirs for preprocessing:\n",
            "['/content/full_wiki_extract/xml0', '/content/full_wiki_extract/xml1', '/content/full_wiki_extract/xml2', '/content/full_wiki_extract/xml3', '/content/full_wiki_extract/xml4', '/content/full_wiki_extract/xml5']\n",
            "Processing /content/hunwiki/huwiki-20200520-pages-articles-multistream2.xml-p58602p198203.bz2\n",
            "Output dir is /content/full_wiki_extract/xml0\n",
            "WARNING: Template errors in article 'Alakváltozás' (178070): title(1) recursion(0, 0, 0)\n",
            "Elapsed time 292.69970703125\n",
            "Processing /content/hunwiki/huwiki-20200520-pages-articles-multistream4.xml-p406075p692318.bz2\n",
            "Output dir is /content/full_wiki_extract/xml1\n",
            "WARNING: Template errors in article 'Temesy Győző' (433326): title(1) recursion(0, 0, 0)\n",
            "WARNING: Template errors in article 'Enantiomerfelesleg' (526861): title(1) recursion(0, 0, 0)\n",
            "Elapsed time 340.4890830516815\n",
            "Processing /content/hunwiki/huwiki-20200520-pages-articles-multistream5.xml-p692319p1116438.bz2\n",
            "Output dir is /content/full_wiki_extract/xml2\n",
            "WARNING: Template errors in article '304 (szám)' (967752): title(1) recursion(0, 0, 0)\n",
            "WARNING: Template errors in article 'Gravitációs tér' (978489): title(1) recursion(0, 0, 0)\n",
            "Elapsed time 546.0107440948486\n",
            "Processing /content/hunwiki/huwiki-20200520-pages-articles-multistream6.xml-p1116439p1705558.bz2\n",
            "Output dir is /content/full_wiki_extract/xml3\n",
            "Elapsed time 738.3736507892609\n",
            "Processing /content/hunwiki/huwiki-20200520-pages-articles-multistream3.xml-p198204p406074.bz2\n",
            "Output dir is /content/full_wiki_extract/xml4\n",
            "WARNING: Template errors in article 'Ptolemaiosz-tétel' (320003): title(4) recursion(0, 0, 0)\n",
            "Elapsed time 301.5809953212738\n",
            "Processing /content/hunwiki/huwiki-20200520-pages-articles-multistream1.xml-p1p58601.bz2\n",
            "Output dir is /content/full_wiki_extract/xml5\n",
            "WARNING: Template errors in article 'Tiszalök' (45351): title(1) recursion(0, 0, 0)\n",
            "Elapsed time 255.7309432029724\n"
          ],
          "name": "stdout"
        }
      ]
    },
    {
      "cell_type": "markdown",
      "metadata": {
        "id": "bjy4IEAeg9zr",
        "colab_type": "text"
      },
      "source": [
        "\n",
        "#### Collect all txt files under /content/full_wiki_extract, append their names with the no. of the source xml:"
      ]
    },
    {
      "cell_type": "code",
      "metadata": {
        "id": "jVoaKYHooAue",
        "colab_type": "code",
        "colab": {}
      },
      "source": [
        "# rename files according to their origin xml + move them under /content/full_wiki_extract/\n",
        "for idx, outputDir in enumerate(outputDirs):\n",
        "  # file names\n",
        "  fileNames = os.listdir(outputDir+'/AA')\n",
        "  # xml number from dumFiles list\n",
        "  xmlNo = os.path.split(dumpFiles[idx])[1].split('.')[0][-1]  # last digit before the \"\".xml\" part in the filename\n",
        "  # new file names\n",
        "  newFileNames = ['xml'+str(xmlNo)+'_'+f for f in fileNames]\n",
        "  # new paths\n",
        "  newPaths = ['/content/full_wiki_extract/'+newName for newName in newFileNames]\n",
        "  # move files\n",
        "  for fileIdx in range(len(fileNames)):\n",
        "    os.rename(outputDir+'/AA/'+fileNames[fileIdx], newPaths[fileIdx])\n"
      ],
      "execution_count": null,
      "outputs": []
    },
    {
      "cell_type": "markdown",
      "metadata": {
        "id": "MeQmxvMqWh1w",
        "colab_type": "text"
      },
      "source": [
        "#### Check the results and save them out to a google cloud bucket "
      ]
    },
    {
      "cell_type": "code",
      "metadata": {
        "id": "uaghiiEnR3BF",
        "colab_type": "code",
        "colab": {
          "base_uri": "https://localhost:8080/",
          "height": 938
        },
        "outputId": "d3c7bbe6-ad96-4fb7-a4fe-b210abac16b4"
      },
      "source": [
        "# let's see what we have\n",
        "print(os.listdir('/content/full_wiki_extract'))\n",
        "\n",
        "# copy all txt files to google cloud bucket\n",
        "!gsutil cp /content/full_wiki_extract/*wiki* gs://hungpt2-wikipedia/full_wiki_extract/"
      ],
      "execution_count": null,
      "outputs": [
        {
          "output_type": "stream",
          "text": [
            "['xml2_wiki_03', 'xml2_wiki_00', 'xml3_wiki_01', 'xml4_wiki_00', 'xml6_wiki_02', 'xml5_wiki_01', 'xml3_wiki_00', 'xml4_wiki_04', 'xml2', 'xml5', 'xml6_wiki_06', 'xml4_wiki_01', 'xml1_wiki_03', 'xml6_wiki_00', 'xml4_wiki_02', 'xml3_wiki_04', 'xml6_wiki_01', 'xml5_wiki_02', 'xml6_wiki_07', 'xml4', 'xml5_wiki_03', 'xml3', 'xml1_wiki_04', 'xml2_wiki_04', 'xml1_wiki_01', 'xml5_wiki_05', 'xml6_wiki_08', 'xml4_wiki_03', 'xml6_wiki_05', 'xml0', 'xml2_wiki_02', 'xml6_wiki_03', 'xml6_wiki_04', 'xml1_wiki_00', 'xml3_wiki_03', 'xml5_wiki_04', 'xml6_wiki_09', 'xml5_wiki_06', 'xml2_wiki_01', 'xml1_wiki_02', 'xml5_wiki_07', 'xml1', 'xml5_wiki_00', 'xml3_wiki_02']\n",
            "Copying file:///content/full_wiki_extract/xml1_wiki_00 [Content-Type=application/octet-stream]...\n",
            "Copying file:///content/full_wiki_extract/xml1_wiki_01 [Content-Type=application/octet-stream]...\n",
            "Copying file:///content/full_wiki_extract/xml1_wiki_02 [Content-Type=application/octet-stream]...\n",
            "Copying file:///content/full_wiki_extract/xml1_wiki_03 [Content-Type=application/octet-stream]...\n",
            "-\n",
            "==> NOTE: You are performing a sequence of gsutil operations that may\n",
            "run significantly faster if you instead use gsutil -m cp ... Please\n",
            "see the -m section under \"gsutil help options\" for further information\n",
            "about when gsutil -m can be advantageous.\n",
            "\n",
            "Copying file:///content/full_wiki_extract/xml1_wiki_04 [Content-Type=application/octet-stream]...\n",
            "Copying file:///content/full_wiki_extract/xml2_wiki_00 [Content-Type=application/octet-stream]...\n",
            "Copying file:///content/full_wiki_extract/xml2_wiki_01 [Content-Type=application/octet-stream]...\n",
            "Copying file:///content/full_wiki_extract/xml2_wiki_02 [Content-Type=application/octet-stream]...\n",
            "Copying file:///content/full_wiki_extract/xml2_wiki_03 [Content-Type=application/octet-stream]...\n",
            "Copying file:///content/full_wiki_extract/xml2_wiki_04 [Content-Type=application/octet-stream]...\n",
            "Copying file:///content/full_wiki_extract/xml3_wiki_00 [Content-Type=application/octet-stream]...\n",
            "Copying file:///content/full_wiki_extract/xml3_wiki_01 [Content-Type=application/octet-stream]...\n",
            "Copying file:///content/full_wiki_extract/xml3_wiki_02 [Content-Type=application/octet-stream]...\n",
            "Copying file:///content/full_wiki_extract/xml3_wiki_03 [Content-Type=application/octet-stream]...\n",
            "Copying file:///content/full_wiki_extract/xml3_wiki_04 [Content-Type=application/octet-stream]...\n",
            "Copying file:///content/full_wiki_extract/xml4_wiki_00 [Content-Type=application/octet-stream]...\n",
            "Copying file:///content/full_wiki_extract/xml4_wiki_01 [Content-Type=application/octet-stream]...\n",
            "Copying file:///content/full_wiki_extract/xml4_wiki_02 [Content-Type=application/octet-stream]...\n",
            "Copying file:///content/full_wiki_extract/xml4_wiki_03 [Content-Type=application/octet-stream]...\n",
            "Copying file:///content/full_wiki_extract/xml4_wiki_04 [Content-Type=application/octet-stream]...\n",
            "Copying file:///content/full_wiki_extract/xml5_wiki_00 [Content-Type=application/octet-stream]...\n",
            "Copying file:///content/full_wiki_extract/xml5_wiki_01 [Content-Type=application/octet-stream]...\n",
            "Copying file:///content/full_wiki_extract/xml5_wiki_02 [Content-Type=application/octet-stream]...\n",
            "Copying file:///content/full_wiki_extract/xml5_wiki_03 [Content-Type=application/octet-stream]...\n",
            "Copying file:///content/full_wiki_extract/xml5_wiki_04 [Content-Type=application/octet-stream]...\n",
            "Copying file:///content/full_wiki_extract/xml5_wiki_05 [Content-Type=application/octet-stream]...\n",
            "Copying file:///content/full_wiki_extract/xml5_wiki_06 [Content-Type=application/octet-stream]...\n",
            "Copying file:///content/full_wiki_extract/xml5_wiki_07 [Content-Type=application/octet-stream]...\n",
            "Copying file:///content/full_wiki_extract/xml6_wiki_00 [Content-Type=application/octet-stream]...\n",
            "Copying file:///content/full_wiki_extract/xml6_wiki_01 [Content-Type=application/octet-stream]...\n",
            "Copying file:///content/full_wiki_extract/xml6_wiki_02 [Content-Type=application/octet-stream]...\n",
            "Copying file:///content/full_wiki_extract/xml6_wiki_03 [Content-Type=application/octet-stream]...\n",
            "Copying file:///content/full_wiki_extract/xml6_wiki_04 [Content-Type=application/octet-stream]...\n",
            "Copying file:///content/full_wiki_extract/xml6_wiki_05 [Content-Type=application/octet-stream]...\n",
            "Copying file:///content/full_wiki_extract/xml6_wiki_06 [Content-Type=application/octet-stream]...\n",
            "Copying file:///content/full_wiki_extract/xml6_wiki_07 [Content-Type=application/octet-stream]...\n",
            "Copying file:///content/full_wiki_extract/xml6_wiki_08 [Content-Type=application/octet-stream]...\n",
            "Copying file:///content/full_wiki_extract/xml6_wiki_09 [Content-Type=application/octet-stream]...\n",
            "|\n",
            "==> NOTE: You are performing a sequence of gsutil operations that may\n",
            "run significantly faster if you instead use gsutil -m cp ... Please\n",
            "see the -m section under \"gsutil help options\" for further information\n",
            "about when gsutil -m can be advantageous.\n",
            "\n",
            "\n",
            "Operation completed over 38 objects/879.2 MiB.                                   \n"
          ],
          "name": "stdout"
        }
      ]
    },
    {
      "cell_type": "markdown",
      "metadata": {
        "id": "7tHmKICPUq03",
        "colab_type": "text"
      },
      "source": [
        "## **Clear text**\n",
        "#### Text files are cleared from unneccessary tags and symbols, then transformed into a \"one wiki article - one line\" format. We save these final files out to the google cloud bucket as well"
      ]
    },
    {
      "cell_type": "code",
      "metadata": {
        "id": "4yCCMoZWg9WN",
        "colab_type": "code",
        "colab": {}
      },
      "source": [
        "# dir to store cleaned text\n",
        "!mkdir full_wiki_cleaned\n",
        "\n",
        "# get list of extracted wiki text files\n",
        "extractedFiles = glob.glob('/content/full_wiki_extract/*wiki*')\n",
        "\n",
        "for idx, file in enumerate(extractedFiles):\n",
        "  with open(file) as f:\n",
        "      wikitext = f.read()\n",
        "  # split text at article ends (</doc> tag)    \n",
        "  wikitext = wikitext.split('</doc>')\n",
        "  # for each article delete endline symbols, join text without those\n",
        "  wikitext = [' '.join(text.split('\\n')[3:]) for text in wikitext]\n",
        "  # join list of article texts into one string, with endline between articles\n",
        "  wikitext = '\\n'.join(wikitext)\n",
        "  # save cleaned text to the \"full_wiki_cleared\" dir\n",
        "  filename = '/content/full_wiki_cleaned/'+os.path.split(file)[1]\n",
        "  with open(filename,'w') as f:\n",
        "      f.write(wikitext)"
      ],
      "execution_count": null,
      "outputs": []
    },
    {
      "cell_type": "markdown",
      "metadata": {
        "id": "dBHlmx5CnSrv",
        "colab_type": "text"
      },
      "source": [
        "#### Save cleaned files to bucket"
      ]
    },
    {
      "cell_type": "code",
      "metadata": {
        "id": "5zwHB304mZ9f",
        "colab_type": "code",
        "colab": {
          "base_uri": "https://localhost:8080/",
          "height": 938
        },
        "outputId": "5802ef99-f265-42dd-9ff8-2f3060405526"
      },
      "source": [
        "# let's see what we have\n",
        "print(os.listdir('/content/full_wiki_cleaned'))\n",
        "\n",
        "# copy all txt files to google cloud bucket\n",
        "!gsutil cp /content/full_wiki_cleaned/*wiki* gs://hungpt2-wikipedia/full_wiki_cleaned/"
      ],
      "execution_count": null,
      "outputs": [
        {
          "output_type": "stream",
          "text": [
            "['xml2_wiki_03', 'xml2_wiki_00', 'xml3_wiki_01', 'xml4_wiki_00', 'xml6_wiki_02', 'xml5_wiki_01', 'xml3_wiki_00', 'xml4_wiki_04', 'xml6_wiki_06', 'xml4_wiki_01', 'xml1_wiki_03', 'xml6_wiki_00', 'xml4_wiki_02', 'xml3_wiki_04', 'xml6_wiki_01', 'xml5_wiki_02', 'xml6_wiki_07', 'xml5_wiki_03', 'xml1_wiki_04', 'xml2_wiki_04', 'xml1_wiki_01', 'xml5_wiki_05', 'xml6_wiki_08', 'xml4_wiki_03', 'xml6_wiki_05', 'xml2_wiki_02', 'xml6_wiki_03', 'xml6_wiki_04', 'xml1_wiki_00', 'xml3_wiki_03', 'xml5_wiki_04', 'xml6_wiki_09', 'xml5_wiki_06', 'xml2_wiki_01', 'xml1_wiki_02', 'xml5_wiki_07', 'xml5_wiki_00', 'xml3_wiki_02']\n",
            "Copying file:///content/full_wiki_cleaned/xml1_wiki_00 [Content-Type=application/octet-stream]...\n",
            "Copying file:///content/full_wiki_cleaned/xml1_wiki_01 [Content-Type=application/octet-stream]...\n",
            "Copying file:///content/full_wiki_cleaned/xml1_wiki_02 [Content-Type=application/octet-stream]...\n",
            "Copying file:///content/full_wiki_cleaned/xml1_wiki_03 [Content-Type=application/octet-stream]...\n",
            "/\n",
            "==> NOTE: You are performing a sequence of gsutil operations that may\n",
            "run significantly faster if you instead use gsutil -m cp ... Please\n",
            "see the -m section under \"gsutil help options\" for further information\n",
            "about when gsutil -m can be advantageous.\n",
            "\n",
            "Copying file:///content/full_wiki_cleaned/xml1_wiki_04 [Content-Type=application/octet-stream]...\n",
            "Copying file:///content/full_wiki_cleaned/xml2_wiki_00 [Content-Type=application/octet-stream]...\n",
            "Copying file:///content/full_wiki_cleaned/xml2_wiki_01 [Content-Type=application/octet-stream]...\n",
            "Copying file:///content/full_wiki_cleaned/xml2_wiki_02 [Content-Type=application/octet-stream]...\n",
            "Copying file:///content/full_wiki_cleaned/xml2_wiki_03 [Content-Type=application/octet-stream]...\n",
            "Copying file:///content/full_wiki_cleaned/xml2_wiki_04 [Content-Type=application/octet-stream]...\n",
            "Copying file:///content/full_wiki_cleaned/xml3_wiki_00 [Content-Type=application/octet-stream]...\n",
            "Copying file:///content/full_wiki_cleaned/xml3_wiki_01 [Content-Type=application/octet-stream]...\n",
            "Copying file:///content/full_wiki_cleaned/xml3_wiki_02 [Content-Type=application/octet-stream]...\n",
            "Copying file:///content/full_wiki_cleaned/xml3_wiki_03 [Content-Type=application/octet-stream]...\n",
            "Copying file:///content/full_wiki_cleaned/xml3_wiki_04 [Content-Type=application/octet-stream]...\n",
            "Copying file:///content/full_wiki_cleaned/xml4_wiki_00 [Content-Type=application/octet-stream]...\n",
            "Copying file:///content/full_wiki_cleaned/xml4_wiki_01 [Content-Type=application/octet-stream]...\n",
            "Copying file:///content/full_wiki_cleaned/xml4_wiki_02 [Content-Type=application/octet-stream]...\n",
            "Copying file:///content/full_wiki_cleaned/xml4_wiki_03 [Content-Type=application/octet-stream]...\n",
            "Copying file:///content/full_wiki_cleaned/xml4_wiki_04 [Content-Type=application/octet-stream]...\n",
            "Copying file:///content/full_wiki_cleaned/xml5_wiki_00 [Content-Type=application/octet-stream]...\n",
            "Copying file:///content/full_wiki_cleaned/xml5_wiki_01 [Content-Type=application/octet-stream]...\n",
            "Copying file:///content/full_wiki_cleaned/xml5_wiki_02 [Content-Type=application/octet-stream]...\n",
            "Copying file:///content/full_wiki_cleaned/xml5_wiki_03 [Content-Type=application/octet-stream]...\n",
            "Copying file:///content/full_wiki_cleaned/xml5_wiki_04 [Content-Type=application/octet-stream]...\n",
            "Copying file:///content/full_wiki_cleaned/xml5_wiki_05 [Content-Type=application/octet-stream]...\n",
            "Copying file:///content/full_wiki_cleaned/xml5_wiki_06 [Content-Type=application/octet-stream]...\n",
            "Copying file:///content/full_wiki_cleaned/xml5_wiki_07 [Content-Type=application/octet-stream]...\n",
            "Copying file:///content/full_wiki_cleaned/xml6_wiki_00 [Content-Type=application/octet-stream]...\n",
            "Copying file:///content/full_wiki_cleaned/xml6_wiki_01 [Content-Type=application/octet-stream]...\n",
            "Copying file:///content/full_wiki_cleaned/xml6_wiki_02 [Content-Type=application/octet-stream]...\n",
            "Copying file:///content/full_wiki_cleaned/xml6_wiki_03 [Content-Type=application/octet-stream]...\n",
            "Copying file:///content/full_wiki_cleaned/xml6_wiki_04 [Content-Type=application/octet-stream]...\n",
            "Copying file:///content/full_wiki_cleaned/xml6_wiki_05 [Content-Type=application/octet-stream]...\n",
            "Copying file:///content/full_wiki_cleaned/xml6_wiki_06 [Content-Type=application/octet-stream]...\n",
            "Copying file:///content/full_wiki_cleaned/xml6_wiki_07 [Content-Type=application/octet-stream]...\n",
            "Copying file:///content/full_wiki_cleaned/xml6_wiki_08 [Content-Type=application/octet-stream]...\n",
            "Copying file:///content/full_wiki_cleaned/xml6_wiki_09 [Content-Type=application/octet-stream]...\n",
            "\\\n",
            "==> NOTE: You are performing a sequence of gsutil operations that may\n",
            "run significantly faster if you instead use gsutil -m cp ... Please\n",
            "see the -m section under \"gsutil help options\" for further information\n",
            "about when gsutil -m can be advantageous.\n",
            "\n",
            "\n",
            "Operation completed over 38 objects/829.0 MiB.                                   \n"
          ],
          "name": "stdout"
        }
      ]
    },
    {
      "cell_type": "markdown",
      "metadata": {
        "id": "gIapIAnioNh7",
        "colab_type": "text"
      },
      "source": [
        "## **The End** - the next part (tokenization) goes into another notebook"
      ]
    },
    {
      "cell_type": "code",
      "metadata": {
        "id": "AKk0btiqoS5V",
        "colab_type": "code",
        "colab": {}
      },
      "source": [
        ""
      ],
      "execution_count": null,
      "outputs": []
    }
  ]
}